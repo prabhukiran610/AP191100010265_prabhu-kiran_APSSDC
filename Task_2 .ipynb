{
 "cells": [
  {
   "cell_type": "markdown",
   "id": "eef3c389",
   "metadata": {},
   "source": [
    "Take last 6 values of Roll Number\n",
    "\n",
    " if value startswith \"01\" --> 'CSE Dept'\n",
    "\n",
    " if value startswith \"11\" --> 'IT Dept'\n",
    "\n",
    " if value startswith \"21\" --> \"ECE Dept\"\n",
    "\n",
    "if does not start with any of the above they are not an SRM student"
   ]
  },
  {
   "cell_type": "code",
   "execution_count": 6,
   "id": "63807b53",
   "metadata": {},
   "outputs": [
    {
     "name": "stdout",
     "output_type": "stream",
     "text": [
      "Enter your roll number: AP19110010265\n",
      "Student belongs to CSE\n"
     ]
    }
   ],
   "source": [
    "Rollnum = input(\"Enter your roll number: \")\n",
    "if Rollnum[-6:].startswith('01'):\n",
    "    print(\"Student belongs to CSE\")\n",
    "elif Rollnum[-6:].startswith('02'):\n",
    "    print(\"Student belongs to IT\")\n",
    "elif Rollnum[-6:].startswith('03'):\n",
    "    print(\"Student belongs to ECE\")\n",
    "else:\n",
    "    print(\"Not a SRM student\")"
   ]
  },
  {
   "cell_type": "code",
   "execution_count": 7,
   "id": "3708b2a8",
   "metadata": {},
   "outputs": [
    {
     "name": "stdout",
     "output_type": "stream",
     "text": [
      "Enter your roll number: AP19110020310\n",
      "Student belongs to IT\n"
     ]
    }
   ],
   "source": [
    "Rollnum = input(\"Enter your roll number: \")\n",
    "if Rollnum[-6:].startswith('01'):\n",
    "    print(\"Student belongs to CSE\")\n",
    "elif Rollnum[-6:].startswith('02'):\n",
    "    print(\"Student belongs to IT\")\n",
    "elif Rollnum[-6:].startswith('03'):\n",
    "    print(\"Student belongs to ECE\")\n",
    "else:\n",
    "    print(\"Not a SRM student\")"
   ]
  },
  {
   "cell_type": "code",
   "execution_count": 8,
   "id": "4a05462f",
   "metadata": {},
   "outputs": [
    {
     "name": "stdout",
     "output_type": "stream",
     "text": [
      "Enter your roll number: AP19110060423\n",
      "Not a SRM student\n"
     ]
    }
   ],
   "source": [
    "Rollnum = input(\"Enter your roll number: \")\n",
    "if Rollnum[-6:].startswith('01'):\n",
    "    print(\"Student belongs to CSE\")\n",
    "elif Rollnum[-6:].startswith('02'):\n",
    "    print(\"Student belongs to IT\")\n",
    "elif Rollnum[-6:].startswith('03'):\n",
    "    print(\"Student belongs to ECE\")\n",
    "else:\n",
    "    print(\"Not a SRM student\")"
   ]
  },
  {
   "cell_type": "code",
   "execution_count": 9,
   "id": "62651376",
   "metadata": {},
   "outputs": [
    {
     "name": "stdout",
     "output_type": "stream",
     "text": [
      "Enter your roll number: AP19110030567\n",
      "Student belongs to ECE\n"
     ]
    }
   ],
   "source": [
    "Rollnum = input(\"Enter your roll number: \")\n",
    "if Rollnum[-6:].startswith('01'):\n",
    "    print(\"Student belongs to CSE\")\n",
    "elif Rollnum[-6:].startswith('02'):\n",
    "    print(\"Student belongs to IT\")\n",
    "elif Rollnum[-6:].startswith('03'):\n",
    "    print(\"Student belongs to ECE\")\n",
    "else:\n",
    "    print(\"Not a SRM student\")"
   ]
  }
 ],
 "metadata": {
  "kernelspec": {
   "display_name": "Python 3",
   "language": "python",
   "name": "python3"
  },
  "language_info": {
   "codemirror_mode": {
    "name": "ipython",
    "version": 3
   },
   "file_extension": ".py",
   "mimetype": "text/x-python",
   "name": "python",
   "nbconvert_exporter": "python",
   "pygments_lexer": "ipython3",
   "version": "3.8.8"
  }
 },
 "nbformat": 4,
 "nbformat_minor": 5
}
