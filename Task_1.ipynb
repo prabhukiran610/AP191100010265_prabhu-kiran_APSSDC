{
 "cells": [
  {
   "cell_type": "markdown",
   "id": "ea3a8537",
   "metadata": {},
   "source": [
    "1.Write a program to check wheather the user eligible for vote or not"
   ]
  },
  {
   "cell_type": "code",
   "execution_count": 3,
   "id": "8be48459",
   "metadata": {},
   "outputs": [
    {
     "name": "stdout",
     "output_type": "stream",
     "text": [
      "Enter age: 9\n",
      "Not Eligible For Voting\n"
     ]
    }
   ],
   "source": [
    "age =int(input(\"Enter age: \"))\n",
    "\n",
    "if age >= 18:\n",
    "    print(\"Eligible For Voting\")\n",
    "else:\n",
    "    print(\"Not Eligible For Voting\")"
   ]
  },
  {
   "cell_type": "markdown",
   "id": "bf904d36",
   "metadata": {},
   "source": [
    "2.Check the given number is positive or negative"
   ]
  },
  {
   "cell_type": "code",
   "execution_count": 10,
   "id": "71746c6a",
   "metadata": {},
   "outputs": [
    {
     "name": "stdout",
     "output_type": "stream",
     "text": [
      "Enter Number: 9\n",
      "The given number is positive \n"
     ]
    }
   ],
   "source": [
    "num=int(input(\"Enter Number: \"))\n",
    "\n",
    "if num<0:\n",
    "    print(\"The given number is negative \")\n",
    "elif num==0:\n",
    "    print(\"zero\")\n",
    "else:\n",
    "    print(\"The given number is positive \")"
   ]
  },
  {
   "cell_type": "markdown",
   "id": "27f77709",
   "metadata": {},
   "source": [
    "3.check the given number is even or odd if it's even check which is divisible by 4 or not"
   ]
  },
  {
   "cell_type": "code",
   "execution_count": 22,
   "id": "fe308e26",
   "metadata": {},
   "outputs": [
    {
     "name": "stdout",
     "output_type": "stream",
     "text": [
      "Enter the number: 55\n",
      "The given number is odd\n"
     ]
    }
   ],
   "source": [
    "num=int(input(\"Enter the number: \"))\n",
    "\n",
    "if (num%2)==0:\n",
    "    if(num%4)==0:\n",
    "        print(\"Even and also divisible by 4\")\n",
    "    else:\n",
    "        print(\"Even and not divisible by 4\")\n",
    "else:\n",
    "    print(\"The given number is odd\")"
   ]
  },
  {
   "cell_type": "markdown",
   "id": "91ee2c8d",
   "metadata": {},
   "source": [
    "4.write a program to print student grade based on persentage like Distinction,pass or fail"
   ]
  },
  {
   "cell_type": "code",
   "execution_count": 16,
   "id": "209de049",
   "metadata": {},
   "outputs": [
    {
     "name": "stdout",
     "output_type": "stream",
     "text": [
      "Enter the percentage: 95.5\n",
      "Grade: Distinction\n"
     ]
    }
   ],
   "source": [
    "percent=float(input(\"Enter the percentage: \"))\n",
    "\n",
    "if percent>=95:\n",
    "    print(\"Grade: Distinction\")\n",
    "elif percent>=60:\n",
    "    print(\"Grade: Pass\")\n",
    "else:\n",
    "    print(\"Grade: Fail\")"
   ]
  },
  {
   "cell_type": "markdown",
   "id": "722c190d",
   "metadata": {},
   "source": [
    "5.Check the given year is Leap or not"
   ]
  },
  {
   "cell_type": "code",
   "execution_count": 20,
   "id": "fee8bfe6",
   "metadata": {},
   "outputs": [
    {
     "name": "stdout",
     "output_type": "stream",
     "text": [
      "Enter the year: 2000\n",
      "It is a leap year\n"
     ]
    }
   ],
   "source": [
    "year=int(input(\"Enter the year: \"))\n",
    "\n",
    "if (year % 4) == 0:\n",
    "   if (year % 100) == 0:\n",
    "       if (year % 400) == 0:\n",
    "           print(\"It is a leap year\")\n",
    "       else:\n",
    "           print(\"It is not a leap year\")\n",
    "   else:\n",
    "       print(\"It is a leap year\")\n",
    "else:\n",
    "   print(\"It is not a leap year\")"
   ]
  },
  {
   "cell_type": "code",
   "execution_count": null,
   "id": "7bb1a555",
   "metadata": {},
   "outputs": [],
   "source": []
  }
 ],
 "metadata": {
  "kernelspec": {
   "display_name": "Python 3",
   "language": "python",
   "name": "python3"
  },
  "language_info": {
   "codemirror_mode": {
    "name": "ipython",
    "version": 3
   },
   "file_extension": ".py",
   "mimetype": "text/x-python",
   "name": "python",
   "nbconvert_exporter": "python",
   "pygments_lexer": "ipython3",
   "version": "3.8.8"
  }
 },
 "nbformat": 4,
 "nbformat_minor": 5
}
