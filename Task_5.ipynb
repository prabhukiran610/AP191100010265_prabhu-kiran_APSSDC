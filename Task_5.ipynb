{
 "cells": [
  {
   "cell_type": "markdown",
   "id": "5377b4ad",
   "metadata": {},
   "source": [
    "1.Write a Python Script to print a dictionary where the keys are numbers between 1 and 15 (both included) and the values are square of keys."
   ]
  },
  {
   "cell_type": "code",
   "execution_count": 2,
   "id": "4cbfab71",
   "metadata": {},
   "outputs": [
    {
     "name": "stdout",
     "output_type": "stream",
     "text": [
      "Enter a number: 6\n",
      "{1: 1, 2: 4, 3: 9, 4: 16, 5: 25, 6: 36}\n"
     ]
    }
   ],
   "source": [
    "s=dict()\n",
    "for i in range(1,int(input(\"Enter a number: \"))+1):\n",
    "    s[i]=i**2\n",
    "print(s)"
   ]
  },
  {
   "cell_type": "markdown",
   "id": "21250ec0",
   "metadata": {},
   "source": [
    "2.Write a Python program to map two lists into a dictionary."
   ]
  },
  {
   "cell_type": "code",
   "execution_count": 4,
   "id": "866740f6",
   "metadata": {},
   "outputs": [
    {
     "name": "stdout",
     "output_type": "stream",
     "text": [
      "{'Name': 'Prabhu', 'Age': 24, 'Job': 'Manager'}\n"
     ]
    }
   ],
   "source": [
    "dictionary = dict()\n",
    "keys = ['Name', 'Age', 'Job']\n",
    "values = ['Prabhu', 24, 'Manager']\n",
    "if len(keys)==len(values):\n",
    "    dictionary = {k: v for k, v in zip(keys, values)}\n",
    "    print(dictionary)\n",
    "else:\n",
    "    print(\"Cannot map the lists to dictionry.\")"
   ]
  },
  {
   "cell_type": "markdown",
   "id": "11f02a8f",
   "metadata": {},
   "source": [
    "3.Write a Python program to sort a list alphabetically in a dictionary\n",
    "\n",
    "*input : {'n1': [2, 3, 1], 'n2': [5, 1, 2], 'n3': [3, 2, 4]}"
   ]
  },
  {
   "cell_type": "code",
   "execution_count": 6,
   "id": "6837f839",
   "metadata": {
    "scrolled": true
   },
   "outputs": [
    {
     "name": "stdout",
     "output_type": "stream",
     "text": [
      "{'n1': [1, 2, 3], 'n2': [1, 2, 5], 'n3': [2, 3, 4]}\n"
     ]
    }
   ],
   "source": [
    "num = {'n1': [2, 3, 1], 'n2': [5, 1, 2], 'n3': [3, 2, 4]}\n",
    "sorted_dict = {a: sorted(b) for a, b in num.items()}\n",
    "print(sorted_dict)"
   ]
  }
 ],
 "metadata": {
  "kernelspec": {
   "display_name": "Python 3",
   "language": "python",
   "name": "python3"
  },
  "language_info": {
   "codemirror_mode": {
    "name": "ipython",
    "version": 3
   },
   "file_extension": ".py",
   "mimetype": "text/x-python",
   "name": "python",
   "nbconvert_exporter": "python",
   "pygments_lexer": "ipython3",
   "version": "3.8.8"
  }
 },
 "nbformat": 4,
 "nbformat_minor": 5
}
